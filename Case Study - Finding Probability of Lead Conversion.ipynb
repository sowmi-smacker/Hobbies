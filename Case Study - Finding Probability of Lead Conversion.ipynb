{
 "cells": [
  {
   "cell_type": "markdown",
   "metadata": {},
   "source": [
    "## Importing Required Packages"
   ]
  },
  {
   "cell_type": "code",
   "execution_count": 1,
   "metadata": {},
   "outputs": [
    {
     "name": "stderr",
     "output_type": "stream",
     "text": [
      "C:\\Users\\emplayadmin\\Anaconda3\\envs\\py27\\lib\\site-packages\\sklearn\\cross_validation.py:41: DeprecationWarning: This module was deprecated in version 0.18 in favor of the model_selection module into which all the refactored classes and functions are moved. Also note that the interface of the new CV iterators are different from that of this module. This module will be removed in 0.20.\n",
      "  \"This module will be removed in 0.20.\", DeprecationWarning)\n"
     ]
    }
   ],
   "source": [
    "import os\n",
    "import pandas as pd\n",
    "import numpy as np\n",
    "import sklearn as sk\n",
    "from sklearn import preprocessing\n",
    "from sklearn.cross_validation import train_test_split\n",
    "from sklearn.preprocessing import LabelEncoder, OneHotEncoder\n",
    "from sklearn.ensemble import RandomForestRegressor,RandomForestClassifier\n",
    "from boruta import BorutaPy\n",
    "from sklearn.feature_selection import SelectKBest, f_regression, f_classif, RFE\n",
    "from sklearn.linear_model import LinearRegression, LogisticRegression\n",
    "import logging\n",
    "from time import time\n",
    "from sklearn.metrics import confusion_matrix\n",
    "from sklearn.model_selection import GridSearchCV\n",
    "import matplotlib.pyplot as plt\n",
    "from operator import itemgetter\n"
   ]
  },
  {
   "cell_type": "markdown",
   "metadata": {},
   "source": [
    "## Importing the Data Sets + Encoding Features"
   ]
  },
  {
   "cell_type": "code",
   "execution_count": 26,
   "metadata": {},
   "outputs": [],
   "source": [
    "\n",
    "# Importing the dataset\n",
    "\n",
    "dataset = pd.read_csv('train.csv')\n",
    "\n",
    "# Selection of Potential Independent Variables - Arrived at these based on EDA\n",
    "dataset= dataset[['Gender','City_Category','Employer_Category1','Employer_Category2','Primary_Bank_Type','Contacted','Source','Source_Category','Approved']]\n",
    "dataset= dataset.dropna()\n",
    "\n",
    "## Encoding categorical data\n",
    "dataset = dataset.apply(LabelEncoder().fit_transform)\n",
    "column_names_for_onehot = dataset.columns[1:]\n",
    "dataset = pd.get_dummies(dataset, columns=column_names_for_onehot, drop_first=True)\n",
    "\n",
    "\n",
    "## Test/Forecast Dataset\n",
    "forecast_dataset = pd.read_csv('test.csv')\n",
    "\n",
    "# Selection of Potential Independent Variables - Arrived at these based on EDA\n",
    "forecast_dataset = forecast_dataset[['Gender','City_Category','Employer_Category1','Employer_Category2','Primary_Bank_Type','Contacted','Source','Source_Category']]\n",
    "forecast_dataset = forecast_dataset.dropna()\n",
    "\n",
    "## Encoding categorical data\n",
    "forecast_dataset1= forecast_dataset.apply(LabelEncoder().fit_transform)\n",
    "column_names_for_onehot_forecast_dataset = forecast_dataset.columns[1:]\n",
    "forecast_dataset1 = pd.get_dummies(forecast_dataset1, columns=column_names_for_onehot_forecast_dataset, drop_first=True)\n"
   ]
  },
  {
   "cell_type": "markdown",
   "metadata": {},
   "source": [
    "## Function to find Variable Importance - Algorithmic Way of feature Selection"
   ]
  },
  {
   "cell_type": "code",
   "execution_count": 27,
   "metadata": {},
   "outputs": [],
   "source": [
    "\n",
    "def var_selector(input_df,Y_var,problem_type = 'regression',selection_algo = 'boruta'):\n",
    "    # input_df can contain only numeric columns\n",
    "    if np.any([isinstance(input_df[column], str) for column in input_df]):\n",
    "        logging.error('Input_df cannot contain any String values. Use one hot encoding to convert Strings to Integers.')\n",
    "    if np.isfinite(input_df.values.all()) == False:\n",
    "        logging.error('Input data contains Infinite values - Not allowed')\n",
    "    if input_df.isnull().values.any() == True:\n",
    "        logging.error('Input data contains NaN values - Not allowed')\n",
    "    # retrieving a NDarray of input variables\n",
    "    X = input_df.drop(Y_var,axis=1).values\n",
    "    if problem_type == 'classification':\n",
    "        # retrieving a NDarray of target variable\n",
    "        Y = pd.factorize(input_df[Y_var])[0]\n",
    "        if selection_algo == 'boruta':\n",
    "            model = RandomForestClassifier(n_jobs = -1, class_weight = 'balanced_subsample', max_depth = 5, random_state = 666)\n",
    "            feature_selector = BorutaPy(model, n_estimators = 'auto', verbose = 0, random_state = 666)\n",
    "        elif selection_algo == 'kbest':\n",
    "            feature_selector = SelectKBest(score_func = f_classif, k = X.shape[1])\n",
    "        elif selection_algo == 'rfe':\n",
    "            feature_selector = RFE(LogisticRegression(), 1, step = 1)\n",
    "        elif selection_algo == 'rf_varimp':\n",
    "            feature_selector = RandomForestClassifier(n_jobs = -1, max_depth = 5, random_state = 666)\n",
    "        else:\n",
    "            logging.error('Input parameter selection_algo can only take values boruta/kbest/rfe/rf_varimp')\n",
    "    elif problem_type == 'regression':\n",
    "        # retrieving a NDarray of target variable\n",
    "        Y = input_df[Y_var].values\n",
    "        if selection_algo == 'boruta':\n",
    "            model = RandomForestRegressor(n_jobs = -1, max_depth = 5, random_state = 666)\n",
    "            feature_selector = BorutaPy(model, n_estimators = 'auto', verbose = 0, random_state = 666)\n",
    "        elif selection_algo == 'kbest':\n",
    "            feature_selector = SelectKBest(score_func = f_regression, k = X.shape[1])\n",
    "        elif selection_algo == 'rfe':\n",
    "            feature_selector = RFE(LinearRegression(), 1, step = 1)\n",
    "        elif selection_algo == 'rf_varimp':\n",
    "            feature_selector = RandomForestRegressor(n_jobs = -1, max_depth = 5, random_state = 666)\n",
    "        else:\n",
    "            logging.error('Input parameter selection_algo can only take values boruta/kbest/rfe')\n",
    "    else:\n",
    "        logging.error('Input parameter problem_type can only take values regression/classification')\n",
    "    # applying the variable selection algorithm on the input & taget variables\n",
    "    feature_selector.fit(X,Y)\n",
    "    # returning a dataframe containing variable names, importance rankings & importance scores (if available)\n",
    "    if selection_algo == 'boruta' or selection_algo == 'rfe':\n",
    "        if feature_selector.ranking_.min > 1:\n",
    "            return pd.DataFrame({'Variable_Name':input_df.drop(Y_var,axis=1).columns,'VarImp_Rank':(feature_selector.ranking_ - 1)})\n",
    "        else:\n",
    "            return pd.DataFrame({'Variable_Name':input_df.drop(Y_var,axis=1).columns,'VarImp_Rank':(feature_selector.ranking_)})\n",
    "    elif selection_algo == 'kbest':\n",
    "        output = pd.DataFrame({'Variable_Name':input_df.drop(Y_var,axis=1).columns,'VarImp_Scores':feature_selector.scores_})\n",
    "        output['VarImp_Rank'] = output['VarImp_Scores'].rank(axis=0, na_option = 'bottom',ascending = False)\n",
    "    elif selection_algo == 'rf_varimp':\n",
    "        output = pd.DataFrame({'Variable_Name':input_df.drop(Y_var,axis=1).columns,'VarImp_Scores':feature_selector.feature_importances_})\n",
    "        output['VarImp_Rank'] = output['VarImp_Scores'].rank(axis=0, na_option = 'bottom',ascending = False)\n",
    "        return output\n"
   ]
  },
  {
   "cell_type": "markdown",
   "metadata": {},
   "source": [
    "## Determining Variable importance + Pre-Processing Steps"
   ]
  },
  {
   "cell_type": "code",
   "execution_count": 28,
   "metadata": {},
   "outputs": [
    {
     "name": "stderr",
     "output_type": "stream",
     "text": [
      "C:\\Users\\emplayadmin\\Anaconda3\\envs\\py27\\lib\\site-packages\\ipykernel_launcher.py:26: SettingWithCopyWarning: \n",
      "A value is trying to be set on a copy of a slice from a DataFrame\n",
      "\n",
      "See the caveats in the documentation: http://pandas.pydata.org/pandas-docs/stable/indexing.html#indexing-view-versus-copy\n",
      "C:\\Users\\emplayadmin\\Anaconda3\\envs\\py27\\lib\\site-packages\\ipykernel_launcher.py:27: SettingWithCopyWarning: \n",
      "A value is trying to be set on a copy of a slice from a DataFrame\n",
      "\n",
      "See the caveats in the documentation: http://pandas.pydata.org/pandas-docs/stable/indexing.html#indexing-view-versus-copy\n"
     ]
    }
   ],
   "source": [
    "## Checking whether the Importance of any of the features is Negative or 0\n",
    "\n",
    "var_scores = var_selector(dataset ,'Approved_1',problem_type = 'classification',selection_algo = 'rf_varimp')\n",
    "\n",
    "## Removing the respective features from the Datasets used for Modelling purpose\n",
    "\n",
    "feature_list = var_scores.loc[var_scores['VarImp_Scores'] > 0, 'Variable_Name'].tolist()\n",
    "feature_list.append('Approved_1')\n",
    "\n",
    "dataset = dataset[feature_list]\n",
    "forecast_dataset1 = forecast_dataset1[list(set(feature_list) - set(['Approved_1']))]\n",
    "\n",
    "\n",
    "\n",
    "# Slicing Dependent and Independent Variables \n",
    "\n",
    "X = dataset.loc[:,dataset.columns != 'Approved_1']\n",
    "y = dataset['Approved_1']\n",
    "\n",
    "# Splitting the dataset into the Training set and Test set\n",
    "X_train, X_test, y_train, y_test = train_test_split(X, y, test_size = 0.2, random_state = 0)\n",
    "\n",
    "## Dropping the missing feature values in the Test Data from the Training Dataset\n",
    "\n",
    "missing_feature_values = list(set(list(X_train.columns)) - set(list(forecast_dataset1.columns)))\n",
    "X_train.drop(missing_feature_values, axis=1, inplace=True)\n",
    "X_test.drop(missing_feature_values, axis=1, inplace=True)\n"
   ]
  },
  {
   "cell_type": "markdown",
   "metadata": {},
   "source": [
    "## Tuning RF Parameters"
   ]
  },
  {
   "cell_type": "code",
   "execution_count": 29,
   "metadata": {},
   "outputs": [],
   "source": [
    "\n",
    "# calculate the time to run a GridSearchCV for multiple numbers of parameter permutations.  \n",
    "grid_times = {}\n",
    "clf = RandomForestClassifier(random_state = 84)\n",
    "\n",
    "features = X_train.columns\n",
    "\n",
    "# I commented this out after running once locally since this block of code takes a long time to run\n",
    "\n",
    "#for number in np.arange(2, 600, 50):\n",
    "#    \n",
    "#    param = np.arange(1,number,10)\n",
    "#    param_grid = {\"n_estimators\": param,\n",
    "#                  \"criterion\": [\"gini\", \"entropy\"]}\n",
    "#    \n",
    "#    grid_search = GridSearchCV(clf, param_grid = param_grid)\n",
    "#    \n",
    "#    t0 = time()\n",
    "#    grid_search.fit(X_train[features], y_train)\n",
    "#    compute_time = time() - t0\n",
    "#    grid_times[len(grid_search.grid_scores_)] = time() - t0\n",
    "#    \n",
    "#grid_times = pd.DataFrame.from_dict(grid_times, orient = 'index')\n",
    "\n",
    "# the hardcoded values are arrived from the above commented code \n",
    "## Note: This can be skipped for Adhoc analysis \n",
    "\n",
    "grid_times = {0: {2: 0.5000255107879639,\n",
    " 12: 26.817718029022217,\n",
    " 22: 88.51770949363708,\n",
    " 32: 181.1005506515503,\n",
    " 42: 329.52738976478577,\n",
    " 52: 478.9300322532654,\n",
    " 62: 682.827840089798,\n",
    " 72: 933.1604237556458,\n",
    " 82: 1377.95844912529}}"
   ]
  },
  {
   "cell_type": "code",
   "execution_count": 30,
   "metadata": {},
   "outputs": [
    {
     "data": {
      "text/plain": [
       "Text(0.5,1,u'Time vs. Number of Parameter Permutations of GridSearchCV')"
      ]
     },
     "execution_count": 30,
     "metadata": {},
     "output_type": "execute_result"
    },
    {
     "data": {
      "image/png": "[encoded data removed]",
      "text/plain": [
       "<matplotlib.figure.Figure at 0xfffe6a0>"
      ]
     },
     "metadata": {},
     "output_type": "display_data"
    }
   ],
   "source": [
    "\n",
    "final = pd.DataFrame.from_dict(grid_times)\n",
    "final = final.sort_index()\n",
    "plt.plot(final.index.values, final[0])\n",
    "plt.xlabel('Number of Parameter Permutations')\n",
    "plt.ylabel('Time (sec)')\n",
    "plt.title('Time vs. Number of Parameter Permutations of GridSearchCV')\n"
   ]
  },
  {
   "cell_type": "code",
   "execution_count": 32,
   "metadata": {},
   "outputs": [
    {
     "name": "stderr",
     "output_type": "stream",
     "text": [
      "C:\\Users\\emplayadmin\\Anaconda3\\envs\\py27\\lib\\site-packages\\sklearn\\model_selection\\_search.py:761: DeprecationWarning: The grid_scores_ attribute was deprecated in version 0.18 in favor of the more elaborate cv_results_ attribute. The grid_scores_ attribute will not be available from 0.20\n",
      "  DeprecationWarning)\n",
      "C:\\Users\\emplayadmin\\Anaconda3\\envs\\py27\\lib\\site-packages\\sklearn\\model_selection\\_search.py:761: DeprecationWarning: The grid_scores_ attribute was deprecated in version 0.18 in favor of the more elaborate cv_results_ attribute. The grid_scores_ attribute will not be available from 0.20\n",
      "  DeprecationWarning)\n",
      "C:\\Users\\emplayadmin\\Anaconda3\\envs\\py27\\lib\\site-packages\\sklearn\\model_selection\\_search.py:761: DeprecationWarning: The grid_scores_ attribute was deprecated in version 0.18 in favor of the more elaborate cv_results_ attribute. The grid_scores_ attribute will not be available from 0.20\n",
      "  DeprecationWarning)\n",
      "C:\\Users\\emplayadmin\\Anaconda3\\envs\\py27\\lib\\site-packages\\sklearn\\model_selection\\_search.py:761: DeprecationWarning: The grid_scores_ attribute was deprecated in version 0.18 in favor of the more elaborate cv_results_ attribute. The grid_scores_ attribute will not be available from 0.20\n",
      "  DeprecationWarning)\n",
      "C:\\Users\\emplayadmin\\Anaconda3\\envs\\py27\\lib\\site-packages\\sklearn\\model_selection\\_search.py:761: DeprecationWarning: The grid_scores_ attribute was deprecated in version 0.18 in favor of the more elaborate cv_results_ attribute. The grid_scores_ attribute will not be available from 0.20\n",
      "  DeprecationWarning)\n",
      "C:\\Users\\emplayadmin\\Anaconda3\\envs\\py27\\lib\\site-packages\\sklearn\\model_selection\\_search.py:761: DeprecationWarning: The grid_scores_ attribute was deprecated in version 0.18 in favor of the more elaborate cv_results_ attribute. The grid_scores_ attribute will not be available from 0.20\n",
      "  DeprecationWarning)\n"
     ]
    },
    {
     "data": {
      "image/png": "[encoded data removed]",
      "text/plain": [
       "<matplotlib.figure.Figure at 0xffe2550>"
      ]
     },
     "metadata": {},
     "output_type": "display_data"
    }
   ],
   "source": [
    "''' \n",
    "There are roughly 70-80 parameter Permutations. \n",
    "Looking at the superlinear rate of increase in time, we cannot practically go ahead with 100s of configurations.\n",
    "From this plot, I can estimate a reasonable range for each parameter to try in GridSearchCV. \n",
    "This method will cut down on the time calculating optimum parameters. \n",
    "Of course, the downside is that the optimum parameters may still very well fall outside of these ranges. '''\n",
    "\n",
    "''' function takes a RF parameter and a ranger and produces a plot and \n",
    "    dataframe of CV scores for parameter values '''\n",
    "    \n",
    "def evaluate_param(parameter, num_range, index):\n",
    "    grid_search = GridSearchCV(clf, param_grid = {parameter: num_range})\n",
    "    grid_search.fit(X_train[features], y_train)\n",
    "    \n",
    "    df = {}\n",
    "    for i, score in enumerate(grid_search.grid_scores_):\n",
    "        df[score[0][parameter]] = score[1]\n",
    "       \n",
    "    \n",
    "    df = pd.DataFrame.from_dict(df, orient='index')\n",
    "    df.reset_index(level=0, inplace=True)\n",
    "    df = df.sort_values(by='index')\n",
    " \n",
    "    plt.subplot(3,2,index)\n",
    "    plot = plt.plot(df['index'], df[0])\n",
    "    plt.title(parameter)\n",
    "    return plot, df\n",
    "\n",
    "# parameters and ranges to plot\n",
    "param_grid = {\"n_estimators\": np.arange(2, 300, 2),\n",
    "              \"max_depth\": np.arange(1, 28, 1),\n",
    "              \"min_samples_split\": np.arange(2,150,1),\n",
    "              \"min_samples_leaf\": np.arange(1,60,1),\n",
    "              \"max_leaf_nodes\": np.arange(2,60,1),\n",
    "              \"min_weight_fraction_leaf\": np.arange(0.1,0.4, 0.1)}\n",
    "\n",
    "index = 1\n",
    "plt.figure(figsize=(16,12))\n",
    "for parameter, param_range in dict.items(param_grid):   \n",
    "    evaluate_param(parameter, param_range, index)\n",
    "    index += 1\n",
    "    \n"
   ]
  },
  {
   "cell_type": "code",
   "execution_count": 35,
   "metadata": {},
   "outputs": [
    {
     "name": "stdout",
     "output_type": "stream",
     "text": [
      "Model with rank: 1\n",
      "Mean validation score: 0.9832)\n",
      "Parameters: {'max_leaf_nodes': 20, 'min_samples_leaf': 10, 'n_estimators': 85, 'min_weight_fraction_leaf': 0.2, 'min_samples_split': 25, 'max_depth': 4}\n",
      "\n",
      "Model with rank: 2\n",
      "Mean validation score: 0.9832)\n",
      "Parameters: {'max_leaf_nodes': 20, 'min_samples_leaf': 10, 'n_estimators': 95, 'min_weight_fraction_leaf': 0.2, 'min_samples_split': 25, 'max_depth': 4}\n",
      "\n",
      "Model with rank: 3\n",
      "Mean validation score: 0.9832)\n",
      "Parameters: {'max_leaf_nodes': 20, 'min_samples_leaf': 10, 'n_estimators': 85, 'min_weight_fraction_leaf': 0.2, 'min_samples_split': 35, 'max_depth': 4}\n",
      "\n",
      "Model with rank: 4\n",
      "Mean validation score: 0.9832)\n",
      "Parameters: {'max_leaf_nodes': 20, 'min_samples_leaf': 10, 'n_estimators': 95, 'min_weight_fraction_leaf': 0.2, 'min_samples_split': 35, 'max_depth': 4}\n",
      "\n"
     ]
    },
    {
     "name": "stderr",
     "output_type": "stream",
     "text": [
      "C:\\Users\\emplayadmin\\Anaconda3\\envs\\py27\\lib\\site-packages\\sklearn\\model_selection\\_search.py:761: DeprecationWarning: The grid_scores_ attribute was deprecated in version 0.18 in favor of the more elaborate cv_results_ attribute. The grid_scores_ attribute will not be available from 0.20\n",
      "  DeprecationWarning)\n"
     ]
    }
   ],
   "source": [
    "\n",
    "'''\n",
    "I can narrow the parameters for GridSearchCV using the plots above. \n",
    "For example, 2 to 10 max_leaf_nodes has been giving better performance which decreases later.\n",
    "Therefore I will restrict my GridSearchCV to the range [5,8]. \n",
    "This helps restrict the number of permutations I need to run. '''\n",
    "\n",
    "# Utility function to report best scores\n",
    "def report(grid_scores, n_top):\n",
    "    top_scores = sorted(grid_scores, key=itemgetter(1), reverse=True)[:n_top]\n",
    "    for i, score in enumerate(top_scores):\n",
    "        print(\"Model with rank: {0}\".format(i + 1))\n",
    "        print(\"Mean validation score: {0:.4f})\".format(\n",
    "              score.mean_validation_score,\n",
    "              np.std(score.cv_validation_scores)))\n",
    "        print(\"Parameters: {0}\".format(score.parameters))\n",
    "        print(\"\")\n",
    "\n",
    "# parameters for GridSearchCV\n",
    "param_grid2 = {\"n_estimators\": [85,95],\n",
    "              \"max_depth\": [4,8],\n",
    "              \"min_samples_split\": [25, 35],\n",
    "              \"min_samples_leaf\": [10, 20],\n",
    "              \"max_leaf_nodes\": [20, 40],\n",
    "              \"min_weight_fraction_leaf\": [0.2]}\n",
    "\n",
    "grid_search = GridSearchCV(clf, param_grid=param_grid2)\n",
    "grid_search.fit(X_train[features], y_train)\n",
    "\n",
    "report(grid_search.grid_scores_, 4)\n"
   ]
  },
  {
   "cell_type": "markdown",
   "metadata": {},
   "source": [
    "## Building the Final Classifier"
   ]
  },
  {
   "cell_type": "code",
   "execution_count": 56,
   "metadata": {},
   "outputs": [
    {
     "name": "stdout",
     "output_type": "stream",
     "text": [
      "Model Accuracy :98.41%\n"
     ]
    }
   ],
   "source": [
    "classifier = RandomForestClassifier(max_depth = 4, \n",
    "                                    max_leaf_nodes= 20, \n",
    "                                    min_samples_leaf = 10,\n",
    "                                    min_samples_split = 25,\n",
    "                                    min_weight_fraction_leaf = 0.2, \n",
    "                                    n_estimators = 95)\n",
    "classifier.fit(X_train, y_train)\n",
    "\n",
    "\n",
    "# Checking Model Accuracy\n",
    "model_accuracy = classifier.score(X_test, y_test)\n",
    "print(\"Model Accuracy :\" + str(round(model_accuracy*100,2))+\"%\")"
   ]
  },
  {
   "cell_type": "markdown",
   "metadata": {},
   "source": [
    "## Finding Probability"
   ]
  },
  {
   "cell_type": "code",
   "execution_count": 64,
   "metadata": {},
   "outputs": [],
   "source": [
    "## Finding Probability \n",
    "probability_train = pd.DataFrame(classifier.predict_proba(X_test))\n",
    "probability_train.columns = ['Not Approved','Approved']\n",
    "\n",
    "\n",
    "'''\n",
    "Since the Average conversion affected by all the individual predictors is 1.46% (Arrived from EDA),\n",
    "I am using it as a cut-off to arrive at High Probability Leads from the given dataset (Relative Probability Method)\n",
    "This cutoff can be further tuned based on the future performance of the model '''\n",
    "\n",
    "high_prob_leads_train = probability_train.loc[probability_train['Approved']>0.0146,:]\n",
    "\n",
    "\n",
    "## Finding Probability for Test (Forecasting Lead Probability)\n",
    "probability_test = pd.DataFrame(classifier.predict_proba(forecast_dataset1))\n",
    "probability_test.columns = ['Not Approved','Approved']\n",
    "\n",
    "high_prob_leads_forecast = probability_test.loc[probability_test['Approved']>0.0146,:]\n",
    "\n",
    "forecast_results = pd.concat([probability_test,forecast_dataset], axis = 1)\n"
   ]
  },
  {
   "cell_type": "code",
   "execution_count": 66,
   "metadata": {},
   "outputs": [
    {
     "data": {
      "text/html": [
       "<div>\n",
       "<style scoped>\n",
       "    .dataframe tbody tr th:only-of-type {\n",
       "        vertical-align: middle;\n",
       "    }\n",
       "\n",
       "    .dataframe tbody tr th {\n",
       "        vertical-align: top;\n",
       "    }\n",
       "\n",
       "    .dataframe thead th {\n",
       "        text-align: right;\n",
       "    }\n",
       "</style>\n",
       "<table border=\"1\" class=\"dataframe\">\n",
       "  <thead>\n",
       "    <tr style=\"text-align: right;\">\n",
       "      <th></th>\n",
       "      <th>Not Approved</th>\n",
       "      <th>Approved</th>\n",
       "    </tr>\n",
       "  </thead>\n",
       "  <tbody>\n",
       "    <tr>\n",
       "      <th>26</th>\n",
       "      <td>0.985393</td>\n",
       "      <td>0.014607</td>\n",
       "    </tr>\n",
       "    <tr>\n",
       "      <th>70</th>\n",
       "      <td>0.985393</td>\n",
       "      <td>0.014607</td>\n",
       "    </tr>\n",
       "    <tr>\n",
       "      <th>101</th>\n",
       "      <td>0.985393</td>\n",
       "      <td>0.014607</td>\n",
       "    </tr>\n",
       "    <tr>\n",
       "      <th>104</th>\n",
       "      <td>0.985393</td>\n",
       "      <td>0.014607</td>\n",
       "    </tr>\n",
       "    <tr>\n",
       "      <th>141</th>\n",
       "      <td>0.985393</td>\n",
       "      <td>0.014607</td>\n",
       "    </tr>\n",
       "  </tbody>\n",
       "</table>\n",
       "</div>"
      ],
      "text/plain": [
       "     Not Approved  Approved\n",
       "26       0.985393  0.014607\n",
       "70       0.985393  0.014607\n",
       "101      0.985393  0.014607\n",
       "104      0.985393  0.014607\n",
       "141      0.985393  0.014607"
      ]
     },
     "execution_count": 66,
     "metadata": {},
     "output_type": "execute_result"
    }
   ],
   "source": [
    "high_prob_leads_forecast.head()"
   ]
  },
  {
   "cell_type": "code",
   "execution_count": null,
   "metadata": {},
   "outputs": [],
   "source": []
  },
  {
   "cell_type": "code",
   "execution_count": null,
   "metadata": {},
   "outputs": [],
   "source": []
  }
 ],
 "metadata": {
  "kernelspec": {
   "display_name": "Python 2",
   "language": "python",
   "name": "python2"
  },
  "language_info": {
   "codemirror_mode": {
    "name": "ipython",
    "version": 2
   },
   "file_extension": ".py",
   "mimetype": "text/x-python",
   "name": "python",
   "nbconvert_exporter": "python",
   "pygments_lexer": "ipython2",
   "version": "2.7.14"
  }
 },
 "nbformat": 4,
 "nbformat_minor": 2
}
